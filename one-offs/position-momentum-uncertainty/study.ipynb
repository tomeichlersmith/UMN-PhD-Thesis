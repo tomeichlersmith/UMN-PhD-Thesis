{
 "cells": [
  {
   "cell_type": "code",
   "execution_count": 43,
   "id": "79535726-ed86-4643-8b8c-6a41ac3c95dc",
   "metadata": {},
   "outputs": [],
   "source": [
    "import numpy as np\n",
    "\n",
    "import hist\n",
    "\n",
    "import matplotlib.pyplot as plt"
   ]
  },
  {
   "cell_type": "markdown",
   "id": "0dad877e-69f5-41cd-9478-268054a8f90f",
   "metadata": {},
   "source": [
    "## Momentum -> Measurements"
   ]
  },
  {
   "cell_type": "code",
   "execution_count": 6,
   "id": "02f787c3-f3fc-4120-af0e-c98f6ea57004",
   "metadata": {},
   "outputs": [
    {
     "data": {
      "text/plain": [
       "6600.0"
      ]
     },
     "execution_count": 6,
     "metadata": {},
     "output_type": "execute_result"
    }
   ],
   "source": [
    "class radius_of_curvature:\n",
    "    \"\"\"https://en.wikipedia.org/wiki/Gyroradius#Relativistic_case\"\"\"\n",
    "    def __init__(self, magnetic_field_T):\n",
    "        self.magnetic_field = magnetic_field_T # T\n",
    "        \n",
    "    def __call__(self, momentum_GeV, charge_electrons = 1):\n",
    "        \"\"\"Calculate an approximate p/(qB) in mm for the input momentum (GeV) and charge in electrons\"\"\"\n",
    "        return (\n",
    "            3.3\n",
    "            * momentum_GeV\n",
    "            / (abs(charge_electrons)*self.magnetic_field)\n",
    "            * 1000 # m -> mm conversion\n",
    "        )\n",
    "\n",
    "\n",
    "roc = radius_of_curvature(1) # RoC in 1T magnetic field\n",
    "\n",
    "ideal_momentum = 2 # GeV\n",
    "start_pos = 0.0 # on layer 0\n",
    "roc(ideal_momentum)"
   ]
  },
  {
   "cell_type": "code",
   "execution_count": 30,
   "id": "80f17946-5032-44a7-85be-4218b88bb8f3",
   "metadata": {},
   "outputs": [],
   "source": [
    "layer_pos = np.array([0, 50, 100]) # mm\n",
    "\n",
    "def measurements(radius, *, start_pos = 0.0, layer_positions = layer_pos):\n",
    "    # assume starting position is first place we are entering the magnetic field,\n",
    "    # this allows us to have our coordinates lined up easier\n",
    "    return (\n",
    "        start_pos\n",
    "        - radius\n",
    "        + np.sqrt(\n",
    "            np.subtract.outer(\n",
    "                radius**2,\n",
    "                (layer_positions-layer_positions[0])**2\n",
    "            ).T\n",
    "        )\n",
    "    )"
   ]
  },
  {
   "cell_type": "code",
   "execution_count": 50,
   "id": "b2b2c359-ec7c-49e1-b662-7929f4e3c06f",
   "metadata": {},
   "outputs": [],
   "source": [
    "# sample various momenta with 10% error\n",
    "momenta = np.random.normal(loc=1,scale=0.10, size=100_000)*ideal_momentum\n",
    "# make measurements\n",
    "perfect_meas = measurements(roc(ideal_momentum))\n",
    "smeared_meas = measurements(roc(momenta))\n",
    "# observe change in position\n",
    "delta_x = (smeared_meas.T - perfect_meas)"
   ]
  },
  {
   "cell_type": "code",
   "execution_count": 51,
   "id": "7cb8bccb-0e79-4e40-b7ba-9a3684ba1779",
   "metadata": {},
   "outputs": [
    {
     "data": {
      "image/png": "[encoded data removed]",
      "text/plain": [
       "<Figure size 640x480 with 1 Axes>"
      ]
     },
     "metadata": {},
     "output_type": "display_data"
    }
   ],
   "source": [
    "# going to ignore the first position since that is fixed in our \"fit\"\n",
    "delta_x_h = (\n",
    "    hist.Hist.new\n",
    "    .StrCategory(['1','2'])\n",
    "    .Reg(501,-1,1,label=r\"$(x_\\text{obs} - x_\\text{ideal})/x_\\text{ideal}$\")\n",
    "    .Double()\n",
    ")\n",
    "delta_x_h.fill('1',delta_x[:,1]/perfect_meas[1])\n",
    "delta_x_h.fill('2',delta_x[:,2]/perfect_meas[2])\n",
    "delta_x_h.plot()\n",
    "plt.legend(title=\"Layer\")\n",
    "plt.show()"
   ]
  },
  {
   "cell_type": "markdown",
   "id": "d2cc65c2-ce09-486b-8864-267d54752726",
   "metadata": {},
   "source": [
    "## Measurements -> Momentum\n",
    "\n",
    "https://math.stackexchange.com/questions/2836274/3-point-to-circle-and-get-radius"
   ]
  },
  {
   "cell_type": "code",
   "execution_count": 66,
   "id": "3340bbc9-11bc-4bd7-bf2b-497782e5ae83",
   "metadata": {},
   "outputs": [],
   "source": [
    "def radius_from_measurements(points):\n",
    "    # points indexed by [coordinate,meas,...]\n",
    "    # first we shift into the coordinates where the first of the three points is at the origin\n",
    "    p1 = points[:,1,...] - points[:,0,...]\n",
    "    p2 = points[:,2,...] - points[:,0,...]\n",
    "    x1, y1 = p1[0,...], p1[1,...]\n",
    "    x2, y2 = p2[0,...], p2[1,...]\n",
    "    return np.sqrt(\n",
    "        (\n",
    "            (x1**2*y2 - x2**2*y1 + y1**2*y2 - y2**2*y1)\n",
    "            /(2*(x1*y2 - x2*y1))\n",
    "        )**2 + (\n",
    "            (x1**2*x2 - x2**2*x1 + y1**2*x2 - y2**2*x1)\n",
    "            /(2*(x2*y1 - x1*y2))\n",
    "        )**2\n",
    "    )\n",
    "\n",
    "\n",
    "def momentum_from_measurements(points, *, units_to_m = 1000.):\n",
    "    return (\n",
    "        radius_from_measurements(points) # same units as points\n",
    "        / units_to_m # conversion to m\n",
    "        / 3.3 # gyroradius approximate factor for (GeV, m, T, e) equation\n",
    "        * 1 # T magnetic field\n",
    "        * 1 # charge in electrons\n",
    "    )"
   ]
  },
  {
   "cell_type": "code",
   "execution_count": 60,
   "id": "e5a2d0f0-150d-4a8c-aff0-40caf10acb87",
   "metadata": {},
   "outputs": [],
   "source": [
    "# 2GeV electron in 1T field copied from above\n",
    "ideal_momentum = 2 # GeV\n",
    "ideal_layer_pos = np.array([0,50,100]) # mm\n",
    "ideal_measurements = np.array([ 0.        , -0.18939666, -0.75761924])\n",
    "ideal_points = np.stack((ideal_measurements, ideal_layer_pos))"
   ]
  },
  {
   "cell_type": "code",
   "execution_count": 67,
   "id": "90e97d92-8610-4a28-919e-7802df6337bc",
   "metadata": {},
   "outputs": [
    {
     "data": {
      "text/plain": [
       "2.000000040285226"
      ]
     },
     "execution_count": 67,
     "metadata": {},
     "output_type": "execute_result"
    }
   ],
   "source": [
    "momentum_from_measurements(ideal_points)"
   ]
  },
  {
   "cell_type": "code",
   "execution_count": 82,
   "id": "cd7a69f2-8043-472a-9c7f-16bbc1152f36",
   "metadata": {},
   "outputs": [],
   "source": [
    "def smear_position(ideal, *, num_samples = 100, u = 0.01, w = 0.1):\n",
    "    return np.transpose(\n",
    "        ideal * np.transpose(\n",
    "            np.random.normal(\n",
    "                loc=1,\n",
    "                scale=(u,w),\n",
    "                size=(3,num_samples,2)\n",
    "            ),\n",
    "            axes = (1,2,0)\n",
    "        ),\n",
    "        axes=(1,2,0)\n",
    "    )"
   ]
  },
  {
   "cell_type": "code",
   "execution_count": 91,
   "id": "064ab159-8c0e-46fa-9933-ae77ef40c458",
   "metadata": {},
   "outputs": [
    {
     "data": {
      "image/png": "[encoded data removed]",
      "text/plain": [
       "<Figure size 640x480 with 1 Axes>"
      ]
     },
     "metadata": {},
     "output_type": "display_data"
    }
   ],
   "source": [
    "hist.Hist.new.Reg(201,-1,1,label=r'$(p_\\text{obs}-p_\\text{ideal})/p_\\text{ideal}$').Double().fill(\n",
    "    (\n",
    "        momentum_from_measurements(smear_position(\n",
    "            ideal_points,\n",
    "            num_samples=100_000,\n",
    "            u = 0.001,\n",
    "            w = 0.01\n",
    "        ))\n",
    "        -ideal_momentum\n",
    "    )/ideal_momentum\n",
    ").plot()\n",
    "plt.show()"
   ]
  },
  {
   "cell_type": "code",
   "execution_count": null,
   "id": "e90f5059-dd3a-4a10-a471-3c0cf27ef335",
   "metadata": {},
   "outputs": [],
   "source": []
  }
 ],
 "metadata": {
  "kernelspec": {
   "display_name": "Python 3 (ipykernel)",
   "language": "python",
   "name": "python3"
  },
  "language_info": {
   "codemirror_mode": {
    "name": "ipython",
    "version": 3
   },
   "file_extension": ".py",
   "mimetype": "text/x-python",
   "name": "python",
   "nbconvert_exporter": "python",
   "pygments_lexer": "ipython3",
   "version": "3.11.8"
  }
 },
 "nbformat": 4,
 "nbformat_minor": 5
}
