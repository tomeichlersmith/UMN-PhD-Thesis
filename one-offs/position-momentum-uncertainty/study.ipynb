{
 "cells": [
  {
   "cell_type": "code",
   "execution_count": 1,
   "id": "79535726-ed86-4643-8b8c-6a41ac3c95dc",
   "metadata": {},
   "outputs": [],
   "source": [
    "import numpy as np"
   ]
  },
  {
   "cell_type": "code",
   "execution_count": null,
   "id": "e8da357c-03c6-441b-91d1-7d3c1648982c",
   "metadata": {},
   "outputs": [],
   "source": [
    "layer_pos = np.array([0, 50, 100]) # mm"
   ]
  },
  {
   "cell_type": "code",
   "execution_count": 6,
   "id": "02f787c3-f3fc-4120-af0e-c98f6ea57004",
   "metadata": {},
   "outputs": [
    {
     "data": {
      "text/plain": [
       "6600.0"
      ]
     },
     "execution_count": 6,
     "metadata": {},
     "output_type": "execute_result"
    }
   ],
   "source": [
    "class radius_of_curvature:\n",
    "    \"\"\"https://en.wikipedia.org/wiki/Gyroradius#Relativistic_case\"\"\"\n",
    "    def __init__(self, magnetic_field_T):\n",
    "        self.magnetic_field = magnetic_field_T # T\n",
    "        \n",
    "    def __call__(self, momentum_GeV, charge_electrons = 1):\n",
    "        return (\n",
    "            3.3\n",
    "            * momentum_GeV\n",
    "            / (abs(charge_electrons)*self.magnetic_field)\n",
    "            * 1000 # m -> mm conversion\n",
    "        )\n",
    "\n",
    "\n",
    "roc = radius_of_curvature(1) # RoC in 1T magnetic field\n",
    "\n",
    "ideal_momentum = 2 # GeV\n",
    "start_pos = 0.0 # on layer 0\n",
    "roc(ideal_momentum)"
   ]
  },
  {
   "cell_type": "code",
   "execution_count": null,
   "id": "80f17946-5032-44a7-85be-4218b88bb8f3",
   "metadata": {},
   "outputs": [],
   "source": []
  }
 ],
 "metadata": {
  "kernelspec": {
   "display_name": "Python 3 (ipykernel)",
   "language": "python",
   "name": "python3"
  },
  "language_info": {
   "codemirror_mode": {
    "name": "ipython",
    "version": 3
   },
   "file_extension": ".py",
   "mimetype": "text/x-python",
   "name": "python",
   "nbconvert_exporter": "python",
   "pygments_lexer": "ipython3",
   "version": "3.11.8"
  }
 },
 "nbformat": 4,
 "nbformat_minor": 5
}
